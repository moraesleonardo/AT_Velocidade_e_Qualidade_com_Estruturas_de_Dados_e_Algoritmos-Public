{
  "nbformat": 4,
  "nbformat_minor": 0,
  "metadata": {
    "colab": {
      "provenance": [],
      "mount_file_id": "1NCvbit9gBmXi1LY2cbxgLbtmuv21gpAB",
      "authorship_tag": "ABX9TyNQow+WImhPq5xKtgQPY+b9",
      "include_colab_link": true
    },
    "kernelspec": {
      "name": "python3",
      "display_name": "Python 3"
    },
    "language_info": {
      "name": "python"
    }
  },
  "cells": [
    {
      "cell_type": "markdown",
      "metadata": {
        "id": "view-in-github",
        "colab_type": "text"
      },
      "source": [
        "<a href=\"https://colab.research.google.com/github/moraesleonardo/AT_Velocidade_e_Qualidade_com_Estruturas_de_Dados_e_Algoritmos-Public/blob/main/AT.ipynb\" target=\"_parent\"><img src=\"https://colab.research.google.com/assets/colab-badge.svg\" alt=\"Open In Colab\"/></a>"
      ]
    },
    {
      "cell_type": "markdown",
      "source": [
        "Questão 1"
      ],
      "metadata": {
        "id": "CRggU0oVrOgB"
      }
    },
    {
      "cell_type": "markdown",
      "source": [
        "Organizar os dados de 1 milhão de produtos em uma árvore de busca binária (BST) pode melhorar significativamente o desempenho das operações de busca e inserção em comparação a uma lista desordenada. Em uma lista desordenada, a busca requer a varredura linear dos elementos, resultando em complexidade O(n), o que é ineficiente para grandes volumes de dados. Em contrapartida, em uma árvore de busca binária balanceada, os dados são estruturados de forma hierárquica, permitindo que cada comparação elimine metade das possibilidades restantes, reduzindo a complexidade para O(log n). Esse comportamento da árvore de busca binária é capaz de acelerar a busca por produtos, como por identificadores ou nomes e de melhorar a inserção de novos elementos sem reorganizar completamente os dados. Essa eficiência é crucial para um e-commerce, que frequentemente precisam lidar com buscas rápidas e alterações frequentes no catálogo.\n",
        "\n"
      ],
      "metadata": {
        "id": "uqUCcMhkrLky"
      }
    },
    {
      "cell_type": "markdown",
      "source": [
        "Questão 2"
      ],
      "metadata": {
        "id": "8FUS7cXUsTin"
      }
    },
    {
      "cell_type": "markdown",
      "source": [
        "Para gerenciar a ordem de pacotes em uma entrega, a fila segue o princípio FIFO (First In, First Out), onde o primeiro pacote inserido é também o primeiro a ser entregue. Esse comportamento reflete a necessidade de entregas em ordem cronológica, garantindo que pacotes sejam processados na mesma sequência em que foram adicionados ao sistema. Já a pilha segue o princípio LIFO (Last In, First Out), quando o último pacote inserido seria o primeiro a ser entregue, desorganizando a ordem de entrega.\n",
        "Portanto, para assegurar a eficiência e organização do fluxo logístico, a fila é a escolha mais alinhada às necessidades da empresa.\n",
        "\n",
        "- Etapas da Fila:\n",
        "Nas etapas de inserção, os pacotes são adicionados ao final da fila, representando os novos pedidos. Na etapa de remoção, os pacotes são retirados do início da fila, refletindo a próxima entrega na ordem planejada. Isso torna a fila ideal para sistemas logísticos que priorizam a sequência de entrega"
      ],
      "metadata": {
        "id": "7Sjzo5N3t3LU"
      }
    },
    {
      "cell_type": "markdown",
      "source": [
        "Questão 3"
      ],
      "metadata": {
        "id": "PgX-No6gt51z"
      }
    },
    {
      "cell_type": "code",
      "source": [
        "# Lista de contatos (não ordenada)\n",
        "contatos = [\n",
        "    {\"nome\": \"Ana\", \"telefone\": \"1234-5678\"},\n",
        "    {\"nome\": \"Bruno\", \"telefone\": \"2345-6789\"},\n",
        "    {\"nome\": \"Carlos\", \"telefone\": \"3456-7890\"},\n",
        "    {\"nome\": \"Diana\", \"telefone\": \"4567-8901\"},\n",
        "    {\"nome\": \"Eduardo\", \"telefone\": \"5678-9012\"}\n",
        "]\n",
        "\n",
        "# Função de busca linear\n",
        "def buscar_contato(nome_procurado, lista_contatos):\n",
        "    for contato in lista_contatos:\n",
        "        if contato[\"nome\"].lower() == nome_procurado.lower():\n",
        "            return f\"Nome: {contato['nome']}, Telefone: {contato['telefone']}\"\n",
        "    return \"Contato não encontrado.\"\n",
        "\n",
        "# Exemplo de uso\n",
        "nome = input(\"Digite o nome do contato que deseja buscar: \")\n",
        "resultado = buscar_contato(nome, contatos)\n",
        "print(resultado)\n"
      ],
      "metadata": {
        "colab": {
          "base_uri": "https://localhost:8080/"
        },
        "id": "CfmxLl8Et7Uj",
        "outputId": "1bb1d350-4edb-4720-f943-0c12a1059d72"
      },
      "execution_count": 1,
      "outputs": [
        {
          "output_type": "stream",
          "name": "stdout",
          "text": [
            "Digite o nome do contato que deseja buscar: Diana\n",
            "Nome: Diana, Telefone: 4567-8901\n"
          ]
        }
      ]
    },
    {
      "cell_type": "markdown",
      "source": [
        "Questão 4"
      ],
      "metadata": {
        "id": "aHj2_8IXxr01"
      }
    },
    {
      "cell_type": "code",
      "source": [
        "import random\n",
        "import time\n",
        "\n",
        "# Gerar uma lista ordenada de 100 mil ISBNs\n",
        "isbn_list = sorted(random.randint(1000000000000, 9999999999999) for _ in range(100000))\n",
        "\n",
        "# ISBN a ser buscado (pegar um aleatório da lista para garantir sucesso na busca)\n",
        "isbn_target = random.choice(isbn_list)\n",
        "\n",
        "# Algoritmo de Busca Binária\n",
        "def busca_binaria(lista, alvo):\n",
        "    inicio = 0\n",
        "    fim = len(lista) - 1\n",
        "    iteracoes = 0\n",
        "    while inicio <= fim:\n",
        "        iteracoes += 1\n",
        "        meio = (inicio + fim) // 2\n",
        "        if lista[meio] == alvo:\n",
        "            return meio, iteracoes\n",
        "        elif lista[meio] < alvo:\n",
        "            inicio = meio + 1\n",
        "        else:\n",
        "            fim = meio - 1\n",
        "    return -1, iteracoes\n",
        "\n",
        "# Algoritmo de Busca Linear\n",
        "def busca_linear(lista, alvo):\n",
        "    iteracoes = 0\n",
        "    for i, isbn in enumerate(lista):\n",
        "        iteracoes += 1\n",
        "        if isbn == alvo:\n",
        "            return i, iteracoes\n",
        "    return -1, iteracoes\n",
        "\n",
        "# Testar e Comparar os Algoritmos\n",
        "print(f\"Buscando o ISBN: {isbn_target}\\n\")\n",
        "\n",
        "# Busca Binária\n",
        "start_time = time.time()\n",
        "index_binaria, iteracoes_binaria = busca_binaria(isbn_list, isbn_target)\n",
        "end_time = time.time()\n",
        "print(f\"Busca Binária: Índice = {index_binaria}, Iterações = {iteracoes_binaria}, Tempo = {end_time - start_time:.6f} segundos\\n\")\n",
        "\n",
        "# Busca Linear\n",
        "start_time = time.time()\n",
        "index_linear, iteracoes_linear = busca_linear(isbn_list, isbn_target)\n",
        "end_time = time.time()\n",
        "print(f\"Busca Linear: Índice = {index_linear}, Iterações = {iteracoes_linear}, Tempo = {end_time - start_time:.6f} segundos\\n\")\n"
      ],
      "metadata": {
        "colab": {
          "base_uri": "https://localhost:8080/"
        },
        "id": "A2j6B6Btw8Yh",
        "outputId": "ba26bdc6-4d1f-4085-fcbb-bdb5b581157d"
      },
      "execution_count": 2,
      "outputs": [
        {
          "output_type": "stream",
          "name": "stdout",
          "text": [
            "Buscando o ISBN: 7496497771898\n",
            "\n",
            "Busca Binária: Índice = 72178, Iterações = 13, Tempo = 0.000099 segundos\n",
            "\n",
            "Busca Linear: Índice = 72178, Iterações = 72179, Tempo = 0.019741 segundos\n",
            "\n"
          ]
        }
      ]
    },
    {
      "cell_type": "markdown",
      "source": [
        "Questão 5"
      ],
      "metadata": {
        "id": "Y0o2sJr_ztyJ"
      }
    },
    {
      "cell_type": "markdown",
      "source": [
        "Em notação Big O, tanto o algoritmo que percorre a lista uma vez (O(n)) quanto o que a percorre duas vezes (O(2n)) são classificados como O(n) porque a notação foca no comportamento do algoritmo em relação ao aumento do tamanho da entrada. Ambos têm um crescimento linear, e o fator constante (como o 2 em O(2n) não altera essa relação. Na prática, o algoritmo O(2n) será mais lento, especialmente para listas menores, mas essa diferença torna-se menos significativa à medida que o tamanho da entrada aumenta. Ainda assim, é sempre melhor optar por algoritmos mais eficientes em termos de iterações, como o O(n), para otimizar o desempenho em sistemas com grande volume de dados ou com restrições de tempo."
      ],
      "metadata": {
        "id": "uj9OsDj2zxX4"
      }
    },
    {
      "cell_type": "markdown",
      "source": [
        "Questão 6"
      ],
      "metadata": {
        "id": "1xfETiCTzxFQ"
      }
    },
    {
      "cell_type": "code",
      "source": [
        "import time\n",
        "import random\n",
        "\n",
        "# Implementação do Bubble Sort\n",
        "def bubble_sort(lista):\n",
        "    n = len(lista)\n",
        "    for i in range(n):\n",
        "        for j in range(0, n - i - 1):\n",
        "            if lista[j] > lista[j + 1]:\n",
        "                lista[j], lista[j + 1] = lista[j + 1], lista[j]\n",
        "\n",
        "# Gerar listas aleatórias de preços\n",
        "precos_1k = [random.uniform(1, 1000) for _ in range(1000)]\n",
        "precos_10k = [random.uniform(1, 1000) for _ in range(10000)]\n",
        "\n",
        "# Testar o Bubble Sort com 1 mil elementos\n",
        "inicio = time.time()\n",
        "bubble_sort(precos_1k)\n",
        "fim = time.time()\n",
        "print(f\"Tempo para ordenar 1 mil elementos: {fim - inicio:.6f} segundos\")\n",
        "\n",
        "# Testar o Bubble Sort com 10 mil elementos\n",
        "inicio = time.time()\n",
        "bubble_sort(precos_10k)\n",
        "fim = time.time()\n",
        "print(f\"Tempo para ordenar 10 mil elementos: {fim - inicio:.6f} segundos\")\n"
      ],
      "metadata": {
        "colab": {
          "base_uri": "https://localhost:8080/"
        },
        "id": "VajiIfpMzv_x",
        "outputId": "eeb65160-4e6b-4904-f17c-9ea2eaa0c27f"
      },
      "execution_count": 3,
      "outputs": [
        {
          "output_type": "stream",
          "name": "stdout",
          "text": [
            "Tempo para ordenar 1 mil elementos: 0.096173 segundos\n",
            "Tempo para ordenar 10 mil elementos: 10.818288 segundos\n"
          ]
        }
      ]
    },
    {
      "cell_type": "markdown",
      "source": [
        "O Bubble Sort tem complexidade O(n²) o que significa que o tempo de execução aumenta de forma desproporcional conforme cresce o tamanho da lista. Para listas de 10 mil elementos, o número de comparações cresce muito em relação a listas menores, como as de 1 mil elementos. Isso ocorre porque o Bubble Sort verifica repetidamente os mesmos elementos em várias passagens, resultando em desperdício de tempo. Dessa forma, o Bubble Sort é mais adequado para listas pequenas por sua simplicidade. Em caso de lista maiores existem outros algoritmos que podem ser usados"
      ],
      "metadata": {
        "id": "fBKP5q0Ntvf5"
      }
    },
    {
      "cell_type": "markdown",
      "source": [
        "Questão 7"
      ],
      "metadata": {
        "id": "KHGQRLJ42Z-c"
      }
    },
    {
      "cell_type": "code",
      "source": [
        "# Lista de exemplo\n",
        "lista = [1, 2, 3, 4, 5, 3]\n",
        "\n",
        "# Conjunto para rastrear elementos vistos\n",
        "elementos_vistos = set()\n",
        "\n",
        "# Verificação de duplicatas no exemplo de uso\n",
        "duplicatas = False\n",
        "for elemento in lista:\n",
        "    if elemento in elementos_vistos:\n",
        "        duplicatas = True\n",
        "        break\n",
        "    elementos_vistos.add(elemento)\n",
        "\n",
        "if duplicatas:\n",
        "    print(\"Duplicatas encontradas!\")\n",
        "else:\n",
        "    print(\"Nenhuma duplicata encontrada.\")\n"
      ],
      "metadata": {
        "colab": {
          "base_uri": "https://localhost:8080/"
        },
        "id": "SSwEWvFNnpxQ",
        "outputId": "bae47613-7ab7-424f-b3e4-a74d9e44d0c7"
      },
      "execution_count": 1,
      "outputs": [
        {
          "output_type": "stream",
          "name": "stdout",
          "text": [
            "Duplicatas encontradas!\n"
          ]
        }
      ]
    },
    {
      "cell_type": "markdown",
      "source": [
        "Usar uma hashtable reduz o tempo de execução porque elimina a necessidade de comparações repetitivas entre elementos. Isso é especialmente útil para listas grandes, onde o impacto de O(n²) seria significativo. A solução com hashtable combina simplicidade e eficiência, sendo amplamente adotada em algoritmos que exigem verificação rápida de elementos únicos"
      ],
      "metadata": {
        "id": "eBnFm6NxtkVr"
      }
    },
    {
      "cell_type": "markdown",
      "source": [
        "Questão 8"
      ],
      "metadata": {
        "id": "Hn2eKddLqGva"
      }
    },
    {
      "cell_type": "code",
      "source": [
        "def selection_sort(jogadores):\n",
        "    n = len(jogadores)\n",
        "    for i in range(n):\n",
        "        # Encontrar o índice do jogador com a maior pontuação restante\n",
        "        max_idx = i\n",
        "        for j in range(i + 1, n):\n",
        "            if jogadores[j]['pontuacao'] > jogadores[max_idx]['pontuacao']:\n",
        "                max_idx = j\n",
        "        # Trocar o jogador com maior pontuação para a posição atual\n",
        "        jogadores[i], jogadores[max_idx] = jogadores[max_idx], jogadores[i]\n",
        "    return jogadores\n",
        "\n",
        "# Lista de jogadores com nome e pontuação\n",
        "jogadores = [\n",
        "    {\"nome\": \"Alice\", \"pontuacao\": 150},\n",
        "    {\"nome\": \"Bob\", \"pontuacao\": 200},\n",
        "    {\"nome\": \"Charlie\", \"pontuacao\": 120},\n",
        "    {\"nome\": \"Diana\", \"pontuacao\": 180},\n",
        "]\n",
        "\n",
        "# Ordenar os jogadores por pontuação (decrescente)\n",
        "jogadores_ordenados = selection_sort(jogadores)\n",
        "\n",
        "# Exibir o resultado\n",
        "for jogador in jogadores_ordenados:\n",
        "    print(f\"{jogador['nome']} - {jogador['pontuacao']}\")\n"
      ],
      "metadata": {
        "colab": {
          "base_uri": "https://localhost:8080/"
        },
        "id": "VQm3960cqL7h",
        "outputId": "64c78598-a32d-4a95-8631-f83b2b1da453"
      },
      "execution_count": 2,
      "outputs": [
        {
          "output_type": "stream",
          "name": "stdout",
          "text": [
            "Bob - 200\n",
            "Diana - 180\n",
            "Alice - 150\n",
            "Charlie - 120\n"
          ]
        }
      ]
    },
    {
      "cell_type": "markdown",
      "source": [
        "O algoritmo organiza a lista de jogadores em ordem decrescente de pontuação, iterando por cada posição “i” e considerando que os elementos à esquerda já estão ordenados. Para cada posição, busca o índice do jogador com a maior pontuação no sub-array não ordenado e o troca para a posição atual. Esse processo é repetido até que toda a lista esteja ordenada. Sua complexidade é O(n²) já que realiza aproximadamente (n * (n - 1)) / 2 comparações. Ele é simples de implementar e útil para listas menores"
      ],
      "metadata": {
        "id": "taWQ8c4ItqeD"
      }
    },
    {
      "cell_type": "markdown",
      "source": [
        "Questão 9"
      ],
      "metadata": {
        "id": "FrHS5zxgtzCV"
      }
    },
    {
      "cell_type": "code",
      "source": [
        "import time\n",
        "import random\n",
        "import string\n",
        "\n",
        "# Gerar uma grande lista de usuários simulados\n",
        "def gerar_usuarios(qtd):\n",
        "    usuarios_lista = []\n",
        "    usuarios_hashtable = {}\n",
        "    usernames_set = set()\n",
        "\n",
        "    for _ in range(qtd):\n",
        "        username = ''.join(random.choices(string.ascii_lowercase + string.digits, k=8))\n",
        "        nome = ''.join(random.choices(string.ascii_uppercase, k=5))\n",
        "        idade = random.randint(18, 60)\n",
        "        perfil = {\"username\": username, \"nome\": nome, \"idade\": idade}\n",
        "        usuarios_lista.append(perfil)\n",
        "        usuarios_hashtable[username] = {\"nome\": nome, \"idade\": idade}\n",
        "        usernames_set.add(username)\n",
        "    return usuarios_lista, usuarios_hashtable, usernames_set\n",
        "\n",
        "# Gerar 1 milhão de usuários\n",
        "usuarios_lista, usuarios_hashtable, usernames_set = gerar_usuarios(1000000)\n",
        "\n",
        "# Adicionar um usuário específico para buscar\n",
        "usuarios_lista.append({\"username\": \"busca_user\", \"nome\": \"Teste\", \"idade\": 35})\n",
        "usuarios_hashtable[\"busca_user\"] = {\"nome\": \"Teste\", \"idade\": 35}\n",
        "usernames_set.add(\"busca_user\")\n",
        "\n",
        "# Função para buscar na lista sequencialmente\n",
        "def buscar_na_lista(lista, username):\n",
        "    for usuario in lista:\n",
        "        if usuario[\"username\"] == username:\n",
        "            return usuario\n",
        "    return None\n",
        "\n",
        "# Função para verificar a existência no set e depois no dicionário\n",
        "def buscar_com_set_e_dicionario(usernames_set, hashtable, username):\n",
        "    if username in usernames_set:\n",
        "        return hashtable.get(username, None)\n",
        "    return None\n",
        "\n",
        "# Comparação de tempos\n",
        "username_procurado = \"busca_user\"\n",
        "print(f\"Buscando pelo nome de usuário: {username_procurado}\\n\")\n",
        "\n",
        "# Busca na lista sequencial\n",
        "inicio_lista = time.time()\n",
        "resultado_lista = buscar_na_lista(usuarios_lista, username_procurado)\n",
        "tempo_lista = time.time() - inicio_lista\n",
        "print(f\"Busca na lista: {resultado_lista}, Tempo: {tempo_lista:.8f} segundos\")\n",
        "\n",
        "# Busca com set e dicionário\n",
        "inicio_set = time.time()\n",
        "resultado_set = buscar_com_set_e_dicionario(usernames_set, usuarios_hashtable, username_procurado)\n",
        "tempo_set = time.time() - inicio_set\n",
        "print(f\"Busca com hashtable: {resultado_set}, Tempo: {tempo_set:.8f} segundos\")"
      ],
      "metadata": {
        "colab": {
          "base_uri": "https://localhost:8080/"
        },
        "id": "QDOa4Iftt2fC",
        "outputId": "72ceafe0-175d-467d-d7a0-5a735f8bddc8"
      },
      "execution_count": 7,
      "outputs": [
        {
          "output_type": "stream",
          "name": "stdout",
          "text": [
            "Buscando pelo nome de usuário: busca_user\n",
            "\n",
            "Busca na lista: {'username': 'busca_user', 'nome': 'Teste', 'idade': 35}, Tempo: 0.55146503 segundos\n",
            "Busca com hashtable: {'nome': 'Teste', 'idade': 35}, Tempo: 0.00007915 segundos\n"
          ]
        }
      ]
    },
    {
      "cell_type": "markdown",
      "source": [
        "A diferença de tempo entre a busca sequencial e a busca em uma hashtable aumenta com o número de dados. Na busca sequencial, com complexidade O(n), cada elemento é comparado até encontrar o alvo, resultando em tempos maiores para grandes volumes. Já a hashtable, com complexidade média O(1), localiza diretamente o dado por meio de uma função de hash, independente do tamanho da entrada. Para grandes volumes a hashtable é muito mais eficiente e reduz significativamente o tempo de execução."
      ],
      "metadata": {
        "id": "Ha-SvtT_yz2S"
      }
    },
    {
      "cell_type": "markdown",
      "source": [
        "Questão 10"
      ],
      "metadata": {
        "id": "-1EGmrUwy2RA"
      }
    },
    {
      "cell_type": "code",
      "source": [
        "class Navegador:\n",
        "    def __init__(self):\n",
        "        self.pilha_voltar = []  # Pilha para armazenar páginas anteriores\n",
        "        self.pilha_avancar = []  # Pilha para armazenar páginas futuras\n",
        "        self.pagina_atual = None  # Página atual do navegador\n",
        "\n",
        "    def acessar_pagina(self, pagina):\n",
        "        if self.pagina_atual:\n",
        "            self.pilha_voltar.append(self.pagina_atual)  # Adiciona a página atual à pilha de \"Voltar\"\n",
        "        self.pagina_atual = pagina  # Atualiza a página atual\n",
        "        self.pilha_avancar.clear()  # Limpa a pilha de \"Avançar\"\n",
        "        print(f\"Acessando: {pagina}\")\n",
        "\n",
        "    def voltar(self):\n",
        "        if not self.pilha_voltar:\n",
        "            print(\"Não há páginas para voltar.\")\n",
        "            return\n",
        "        self.pilha_avancar.append(self.pagina_atual)  # Move a página atual para a pilha de \"Avançar\"\n",
        "        self.pagina_atual = self.pilha_voltar.pop()  # Recupera a última página da pilha de \"Voltar\"\n",
        "        print(f\"Voltando para: {self.pagina_atual}\")\n",
        "\n",
        "    def avancar(self):\n",
        "        if not self.pilha_avancar:\n",
        "            print(\"Não há páginas para avançar.\")\n",
        "            return\n",
        "        self.pilha_voltar.append(self.pagina_atual)  # Move a página atual para a pilha de \"Voltar\"\n",
        "        self.pagina_atual = self.pilha_avancar.pop()  # Recupera a última página da pilha de \"Avançar\"\n",
        "        print(f\"Avançando para: {self.pagina_atual}\")\n",
        "\n",
        "    def estado_atual(self):\n",
        "        print(f\"Página atual: {self.pagina_atual}\")\n",
        "        print(f\"Pilha Voltar: {self.pilha_voltar}\")\n",
        "        print(f\"Pilha Avançar: {self.pilha_avancar}\")\n",
        "\n",
        "# Simulação\n",
        "navegador = Navegador()\n",
        "\n",
        "navegador.acessar_pagina(\"Página 1\")\n",
        "navegador.acessar_pagina(\"Página 2\")\n",
        "navegador.acessar_pagina(\"Página 3\")\n",
        "\n",
        "navegador.voltar()  # Deve ir para \"Página 2\"\n",
        "navegador.voltar()  # Deve ir para \"Página 1\"\n",
        "navegador.avancar()  # Deve ir para \"Página 2\"\n",
        "\n",
        "navegador.acessar_pagina(\"Página 4\")  # Deve limpar a pilha de avançar\n",
        "navegador.estado_atual()  # Exibe o estado atual das pilhas\n"
      ],
      "metadata": {
        "colab": {
          "base_uri": "https://localhost:8080/"
        },
        "id": "HiNETycqvcrl",
        "outputId": "f5cfa1d6-4b19-4384-8399-0baa2d670385"
      },
      "execution_count": 8,
      "outputs": [
        {
          "output_type": "stream",
          "name": "stdout",
          "text": [
            "Acessando: Página 1\n",
            "Acessando: Página 2\n",
            "Acessando: Página 3\n",
            "Voltando para: Página 2\n",
            "Voltando para: Página 1\n",
            "Avançando para: Página 2\n",
            "Acessando: Página 4\n",
            "Página atual: Página 4\n",
            "Pilha Voltar: ['Página 1', 'Página 2']\n",
            "Pilha Avançar: []\n"
          ]
        }
      ]
    },
    {
      "cell_type": "markdown",
      "source": [
        "Questão 11"
      ],
      "metadata": {
        "id": "_LSod5tDIv94"
      }
    },
    {
      "cell_type": "code",
      "source": [
        "from collections import deque\n",
        "\n",
        "class SistemaAtendimento:\n",
        "    def __init__(self):\n",
        "        self.fila_chamados = deque()  # Usando deque para gerenciar a fila\n",
        "\n",
        "    def adicionar_chamado(self, chamado):\n",
        "        \"\"\"Adiciona um chamado à fila.\"\"\"\n",
        "        self.fila_chamados.append(chamado)\n",
        "        print(f\"Chamado '{chamado}' adicionado à fila.\")\n",
        "\n",
        "    def atender_chamado(self):\n",
        "        \"\"\"Atende o próximo chamado da fila.\"\"\"\n",
        "        if self.fila_chamados:\n",
        "            chamado_atendido = self.fila_chamados.popleft()\n",
        "            print(f\"Chamado '{chamado_atendido}' atendido.\")\n",
        "        else:\n",
        "            print(\"Nenhum chamado na fila para atender.\")\n",
        "\n",
        "    def exibir_fila(self):\n",
        "        \"\"\"Exibe a fila de chamados.\"\"\"\n",
        "        if self.fila_chamados:\n",
        "            print(\"Fila atual de chamados:\", list(self.fila_chamados))\n",
        "        else:\n",
        "            print(\"A fila está vazia.\")\n",
        "\n",
        "# Simulação\n",
        "sistema = SistemaAtendimento()\n",
        "\n",
        "# Inserir chamados na fila\n",
        "sistema.adicionar_chamado(\"Chamado 1\")\n",
        "sistema.adicionar_chamado(\"Chamado 2\")\n",
        "sistema.adicionar_chamado(\"Chamado 3\")\n",
        "\n",
        "# Exibir a fila\n",
        "sistema.exibir_fila()\n",
        "\n",
        "# Atender chamados\n",
        "sistema.atender_chamado()  # Atende \"Chamado 1\"\n",
        "sistema.exibir_fila()      # Exibe a fila restante\n",
        "\n",
        "sistema.atender_chamado()  # Atende \"Chamado 2\"\n",
        "sistema.atender_chamado()  # Atende \"Chamado 3\"\n",
        "sistema.atender_chamado()  # Nenhum chamado na fila"
      ],
      "metadata": {
        "colab": {
          "base_uri": "https://localhost:8080/"
        },
        "id": "QauIKAFZzDLv",
        "outputId": "c7855501-10b2-4f49-c959-62752411f491"
      },
      "execution_count": 1,
      "outputs": [
        {
          "output_type": "stream",
          "name": "stdout",
          "text": [
            "Chamado 'Chamado 1' adicionado à fila.\n",
            "Chamado 'Chamado 2' adicionado à fila.\n",
            "Chamado 'Chamado 3' adicionado à fila.\n",
            "Fila atual de chamados: ['Chamado 1', 'Chamado 2', 'Chamado 3']\n",
            "Chamado 'Chamado 1' atendido.\n",
            "Fila atual de chamados: ['Chamado 2', 'Chamado 3']\n",
            "Chamado 'Chamado 2' atendido.\n",
            "Chamado 'Chamado 3' atendido.\n",
            "Nenhum chamado na fila para atender.\n"
          ]
        }
      ]
    },
    {
      "cell_type": "markdown",
      "source": [
        "Questão 12"
      ],
      "metadata": {
        "id": "FGYFDJhcWbFx"
      }
    },
    {
      "cell_type": "code",
      "source": [
        "import os\n",
        "\n",
        "def listar_arquivos_recursivo(caminho, nivel=1):\n",
        "    \"\"\"\n",
        "    Lista todos os arquivos de um diretório especificado de forma recursiva.\n",
        "    Args:\n",
        "        caminho (str): Caminho do diretório a ser explorado.\n",
        "        nivel (int): Nível de profundidade na hierarquia (usado para identação).\n",
        "    \"\"\"\n",
        "    try:\n",
        "        # Obter todos os itens no diretório atual\n",
        "        itens = os.listdir(caminho)\n",
        "        for item in itens:\n",
        "            # Obter o caminho completo do item\n",
        "            caminho_completo = os.path.join(caminho, item)\n",
        "            # Verificar se é um diretório\n",
        "            if os.path.isdir(caminho_completo):\n",
        "                # Explorar recursivamente o subdiretório\n",
        "                listar_arquivos_recursivo(caminho_completo, nivel + 1)\n",
        "            else:\n",
        "                # Se for um arquivo, exibir\n",
        "                print(\"  \" * nivel + f\"Arquivo: {caminho_completo}\")\n",
        "    except PermissionError:\n",
        "        print(\"  \" * nivel + f\"[PERMISSION DENIED] {caminho}\")\n",
        "    except Exception as e:\n",
        "        print(\"  \" * nivel + f\"[ERROR] {caminho}: {e}\")\n",
        "\n",
        "# Diretório inicial para explorar (use um caminho válido)\n",
        "diretorio_inicial = \"/content/drive/MyDrive/TP3\"\n",
        "\n",
        "# Executar a função no diretório inicial\n",
        "listar_arquivos_recursivo(diretorio_inicial)\n"
      ],
      "metadata": {
        "colab": {
          "base_uri": "https://localhost:8080/"
        },
        "id": "k_pErOp7IyUb",
        "outputId": "221300d3-c7d4-4d69-9cab-946f4b10af33"
      },
      "execution_count": 4,
      "outputs": [
        {
          "output_type": "stream",
          "name": "stdout",
          "text": [
            "    Arquivo: /content/drive/MyDrive/TP3/etapa4/BigO.py\n",
            "    Arquivo: /content/drive/MyDrive/TP3/etapa4/Pilha.py\n",
            "    Arquivo: /content/drive/MyDrive/TP3/etapa4/PilhaPronta.py\n",
            "    Arquivo: /content/drive/MyDrive/TP3/etapa4/HashTable.py\n",
            "    Arquivo: /content/drive/MyDrive/TP3/etapa4/FilaPronta.py\n",
            "    Arquivo: /content/drive/MyDrive/TP3/etapa4/Fila.py\n",
            "    Arquivo: /content/drive/MyDrive/TP3/etapa6/quickselect.py\n",
            "    Arquivo: /content/drive/MyDrive/TP3/etapa6/quickselect_inplace.py\n",
            "    Arquivo: /content/drive/MyDrive/TP3/etapa6/quicksort.py\n",
            "    Arquivo: /content/drive/MyDrive/TP3/etapa6/subset_sum.py\n",
            "    Arquivo: /content/drive/MyDrive/TP3/etapa6/fatorialInterat.py\n",
            "    Arquivo: /content/drive/MyDrive/TP3/etapa6/subset_sum_Dinanic.py\n",
            "    Arquivo: /content/drive/MyDrive/TP3/etapa6/quicksort_inplace.py\n",
            "    Arquivo: /content/drive/MyDrive/TP3/etapa6/fibonacciMen.py\n",
            "    Arquivo: /content/drive/MyDrive/TP3/etapa6/fibonacci.py\n"
          ]
        }
      ]
    },
    {
      "cell_type": "markdown",
      "source": [
        "Questão 13"
      ],
      "metadata": {
        "id": "GpcmZCCEb0wk"
      }
    },
    {
      "cell_type": "code",
      "source": [
        "def knapsack(capacity, weights, values, n):\n",
        "    # Criar uma matriz para armazenar os resultados\n",
        "    dp = [[0 for _ in range(capacity + 1)] for _ in range(n + 1)]\n",
        "\n",
        "    # Preencher a matriz com programação dinâmica\n",
        "    for i in range(1, n + 1):\n",
        "        for w in range(1, capacity + 1):\n",
        "            if weights[i - 1] <= w:\n",
        "                dp[i][w] = max(values[i - 1] + dp[i - 1][w - weights[i - 1]], dp[i - 1][w])\n",
        "            else:\n",
        "                dp[i][w] = dp[i - 1][w]\n",
        "\n",
        "    return dp[n][capacity]\n",
        "\n",
        "# Teste\n",
        "weights = [2, 3, 4, 5]\n",
        "values = [3, 4, 5, 6]\n",
        "capacity = 5\n",
        "n = len(weights)\n",
        "\n",
        "print(\"Valor máximo:\", knapsack(capacity, weights, values, n))\n"
      ],
      "metadata": {
        "colab": {
          "base_uri": "https://localhost:8080/"
        },
        "id": "w1Uy6X9yOjbQ",
        "outputId": "74aa7b24-2f8c-42ec-ad78-1b3613ba3b54"
      },
      "execution_count": 1,
      "outputs": [
        {
          "output_type": "stream",
          "name": "stdout",
          "text": [
            "Valor máximo: 7\n"
          ]
        }
      ]
    },
    {
      "cell_type": "markdown",
      "source": [
        "A implementação com programação dinâmica melhora a eficiência ao evitar o cálculo repetido de subproblemas. A matriz “dp” armazena os resultados intermediários, permitindo que cada subproblema seja resolvido apenas uma vez, reduzindo a complexidade de exponencial (O(2^n)) na abordagem recursiva para polinomial (O(n * capacity)). Isso é alcançado ao reutilizar os resultados armazenados na matriz, em vez de recalcular repetidamente as combinações possíveis de itens."
      ],
      "metadata": {
        "id": "3ZO_4jOqP9gM"
      }
    },
    {
      "cell_type": "markdown",
      "source": [
        "Questão 14"
      ],
      "metadata": {
        "id": "Jv2oMzRhP-U-"
      }
    },
    {
      "cell_type": "code",
      "source": [
        "class Node:\n",
        "    def __init__(self, key):\n",
        "        self.key = key\n",
        "        self.left = None\n",
        "        self.right = None\n",
        "\n",
        "class BST:\n",
        "    def __init__(self):\n",
        "        self.root = None\n",
        "\n",
        "    def insert(self, root, key):\n",
        "        # Se a árvore está vazia, cria um novo nó\n",
        "        if root is None:\n",
        "            return Node(key)\n",
        "        # Inserir na subárvore à esquerda se a chave for menor\n",
        "        if key < root.key:\n",
        "            root.left = self.insert(root.left, key)\n",
        "        # Inserir na subárvore à direita se a chave for maior\n",
        "        elif key > root.key:\n",
        "            root.right = self.insert(root.right, key)\n",
        "        return root\n",
        "\n",
        "    def search(self, root, key):\n",
        "        # Base: se a chave está no nó atual ou se a árvore acabou\n",
        "        if root is None or root.key == key:\n",
        "            return root\n",
        "        # Procurar na subárvore à esquerda se a chave for menor\n",
        "        if key < root.key:\n",
        "            return self.search(root.left, key)\n",
        "        # Procurar na subárvore à direita se a chave for maior\n",
        "        return self.search(root.right, key)\n",
        "\n",
        "# Criar a BST e inserir os preços\n",
        "bst = BST()\n",
        "root = None\n",
        "precos = [100, 50, 150, 30, 70, 130, 170]\n",
        "\n",
        "for preco in precos:\n",
        "    root = bst.insert(root, preco)\n",
        "\n",
        "# Buscar o preço 70\n",
        "resultado = bst.search(root, 70)\n",
        "\n",
        "# Exibir o resultado\n",
        "if resultado:\n",
        "    print(f\"Preço {resultado.key} encontrado e está disponível!\")\n",
        "else:\n",
        "    print(\"Preço não encontrado!\")\n"
      ],
      "metadata": {
        "colab": {
          "base_uri": "https://localhost:8080/"
        },
        "id": "WRreaMvkReac",
        "outputId": "4b4f01a7-0253-4e95-9ae0-9d57dcb131e7"
      },
      "execution_count": 2,
      "outputs": [
        {
          "output_type": "stream",
          "name": "stdout",
          "text": [
            "Preço 70 encontrado e está disponível!\n"
          ]
        }
      ]
    },
    {
      "cell_type": "markdown",
      "source": [
        "Questão 15"
      ],
      "metadata": {
        "id": "0c4WIFZQTb45"
      }
    },
    {
      "cell_type": "code",
      "source": [
        "class Node:\n",
        "    def __init__(self, key):\n",
        "        self.key = key\n",
        "        self.left = None\n",
        "        self.right = None\n",
        "\n",
        "class BST:\n",
        "    def __init__(self):\n",
        "        self.root = None\n",
        "\n",
        "    def insert(self, root, key):\n",
        "        # Se a árvore está vazia, cria um novo nó\n",
        "        if root is None:\n",
        "            return Node(key)\n",
        "        # Inserir na subárvore à esquerda se a chave for menor\n",
        "        if key < root.key:\n",
        "            root.left = self.insert(root.left, key)\n",
        "        # Inserir na subárvore à direita se a chave for maior\n",
        "        elif key > root.key:\n",
        "            root.right = self.insert(root.right, key)\n",
        "        return root\n",
        "\n",
        "    def find_min(self, root):\n",
        "        # O valor mínimo está na folha mais à esquerda\n",
        "        current = root\n",
        "        while current.left is not None:\n",
        "            current = current.left\n",
        "        return current.key\n",
        "\n",
        "    def find_max(self, root):\n",
        "        # O valor máximo está na folha mais à direita\n",
        "        current = root\n",
        "        while current.right is not None:\n",
        "            current = current.right\n",
        "        return current.key\n",
        "\n",
        "# Criar a BST e inserir as notas\n",
        "bst = BST()\n",
        "root = None\n",
        "notas = [85, 70, 95, 60, 75, 90, 100]\n",
        "\n",
        "for nota in notas:\n",
        "    root = bst.insert(root, nota)\n",
        "\n",
        "# Encontrar a nota mínima e máxima\n",
        "nota_minima = bst.find_min(root)\n",
        "nota_maxima = bst.find_max(root)\n",
        "\n",
        "# Exibir os resultados\n",
        "print(f\"Nota mínima: {nota_minima}\")\n",
        "print(f\"Nota máxima: {nota_maxima}\")"
      ],
      "metadata": {
        "colab": {
          "base_uri": "https://localhost:8080/"
        },
        "id": "V9CMNcMcRhRx",
        "outputId": "c97bbd6b-7a44-40aa-867a-b63fd7f19390"
      },
      "execution_count": 4,
      "outputs": [
        {
          "output_type": "stream",
          "name": "stdout",
          "text": [
            "Nota mínima: 60\n",
            "Nota máxima: 100\n"
          ]
        }
      ]
    },
    {
      "cell_type": "markdown",
      "source": [
        "Questão 16"
      ],
      "metadata": {
        "id": "MPn0JwYLTd7p"
      }
    },
    {
      "cell_type": "code",
      "source": [
        "class Node:\n",
        "    def __init__(self, key):\n",
        "        self.key = key\n",
        "        self.left = None\n",
        "        self.right = None\n",
        "\n",
        "class BST:\n",
        "    def __init__(self):\n",
        "        self.root = None\n",
        "\n",
        "    def insert(self, root, key):\n",
        "        # Se a árvore está vazia, cria um novo nó\n",
        "        if root is None:\n",
        "            return Node(key)\n",
        "        # Inserir na subárvore à esquerda se a chave for menor\n",
        "        if key < root.key:\n",
        "            root.left = self.insert(root.left, key)\n",
        "        # Inserir na subárvore à direita se a chave for maior\n",
        "        elif key > root.key:\n",
        "            root.right = self.insert(root.right, key)\n",
        "        return root\n",
        "\n",
        "    def min_value_node(self, node):\n",
        "        # Encontrar o menor valor na subárvore\n",
        "        current = node\n",
        "        while current.left is not None:\n",
        "            current = current.left\n",
        "        return current\n",
        "\n",
        "    def delete(self, root, key):\n",
        "        # Caso base: árvore vazia\n",
        "        if root is None:\n",
        "            return root\n",
        "        # Procurar o nó a ser removido\n",
        "        if key < root.key:\n",
        "            root.left = self.delete(root.left, key)\n",
        "        elif key > root.key:\n",
        "            root.right = self.delete(root.right, key)\n",
        "        else:\n",
        "            # Caso 1: Nó folha\n",
        "            if root.left is None and root.right is None:\n",
        "                return None\n",
        "            # Caso 2: Nó com um filho\n",
        "            if root.left is None:\n",
        "                return root.right\n",
        "            elif root.right is None:\n",
        "                return root.left\n",
        "            # Caso 3: Nó com dois filhos\n",
        "            temp = self.min_value_node(root.right)\n",
        "            root.key = temp.key\n",
        "            root.right = self.delete(root.right, temp.key)\n",
        "        return root\n",
        "\n",
        "    def inorder(self, root):\n",
        "        # Exibir a árvore em ordem crescente\n",
        "        if root:\n",
        "            self.inorder(root.left)\n",
        "            print(root.key, end=\" \")\n",
        "            self.inorder(root.right)\n",
        "\n",
        "# Criar a BST e inserir os códigos\n",
        "bst = BST()\n",
        "root = None\n",
        "codigos = [45, 25, 65, 20, 30, 60, 70]\n",
        "\n",
        "for codigo in codigos:\n",
        "    root = bst.insert(root, codigo)\n",
        "\n",
        "# Operações de remoção\n",
        "print(\"Árvore original (em ordem):\")\n",
        "bst.inorder(root)\n",
        "print(\"\\n\")\n",
        "\n",
        "# Remover 20 (nó folha)\n",
        "root = bst.delete(root, 20)\n",
        "print(\"Após remover 20 (nó folha):\")\n",
        "bst.inorder(root)\n",
        "print(\"\\n\")\n",
        "\n",
        "# Remover 25 (nó com um filho)\n",
        "root = bst.delete(root, 25)\n",
        "print(\"Após remover 25 (nó com um filho):\")\n",
        "bst.inorder(root)\n",
        "print(\"\\n\")\n",
        "\n",
        "# Remover 45 (nó com dois filhos)\n",
        "root = bst.delete(root, 45)\n",
        "print(\"Após remover 45 (nó com dois filhos):\")\n",
        "bst.inorder(root)\n",
        "print(\"\\n\")"
      ],
      "metadata": {
        "colab": {
          "base_uri": "https://localhost:8080/"
        },
        "id": "2mbXm4ZXUaS8",
        "outputId": "d261430e-fa78-4d4f-b3b1-e9d20bb41155"
      },
      "execution_count": 5,
      "outputs": [
        {
          "output_type": "stream",
          "name": "stdout",
          "text": [
            "Árvore original (em ordem):\n",
            "20 25 30 45 60 65 70 \n",
            "\n",
            "Após remover 20 (nó folha):\n",
            "25 30 45 60 65 70 \n",
            "\n",
            "Após remover 25 (nó com um filho):\n",
            "30 45 60 65 70 \n",
            "\n",
            "Após remover 45 (nó com dois filhos):\n",
            "30 60 65 70 \n",
            "\n"
          ]
        }
      ]
    },
    {
      "cell_type": "code",
      "source": [],
      "metadata": {
        "id": "TdDC9tbgWxh3"
      },
      "execution_count": null,
      "outputs": []
    }
  ]
}